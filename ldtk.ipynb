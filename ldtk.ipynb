{
 "cells": [
  {
   "cell_type": "code",
   "metadata": {
    "ExecuteTime": {
     "end_time": "2025-02-10T12:29:51.188284Z",
     "start_time": "2025-02-10T12:29:49.213758Z"
    }
   },
   "source": [
    "import pandas as pd\n",
    "import numpy as np\n",
    "import ldtk"
   ],
   "outputs": [],
   "execution_count": 4
  },
  {
   "cell_type": "code",
   "metadata": {
    "ExecuteTime": {
     "end_time": "2025-02-10T12:29:52.428392Z",
     "start_time": "2025-02-10T12:29:52.424621Z"
    }
   },
   "source": [
    "target_path = '/Users/u5500483/Documents/GitHub/Paper_II/'\n",
    "filter_path = '/Users/u5500483/Documents/GitHub/Paper_II/filters_limb_dark/'"
   ],
   "outputs": [],
   "execution_count": 5
  },
  {
   "cell_type": "code",
   "metadata": {
    "ExecuteTime": {
     "end_time": "2025-02-10T12:29:59.467583Z",
     "start_time": "2025-02-10T12:29:59.453593Z"
    }
   },
   "source": [
    "def create_ngts():\n",
    "    df = pd.read_csv(filter_path + 'NGTS_transmission_and_atmosphere_MGunther.txt', comment='#', header=None, names=['wavelength','response'])\n",
    "    return ldtk.TabulatedFilter('NGTS', df.wavelength.values, df.response.values)\n",
    "\n",
    "def create_tess():\n",
    "    df = pd.read_table(filter_path + 'TESS.dat', header=None, names=['wavelength','response'], sep='    ')\n",
    "    df['wavelength'] = df['wavelength']*0.1\n",
    "    return ldtk.TabulatedFilter('TESS', df.wavelength.values, df.response.values)\n",
    "\n",
    "def create_SLOAN_g():\n",
    "    df = pd.read_table(filter_path + 'SLOAN_SDSS.gprime_filter.dat', header=None, names=['wavelength','response'])\n",
    "    df['wavelength'] = df['wavelength'].astype('float')*0.1\n",
    "    return ldtk.TabulatedFilter('SLOAN-g', df.wavelength.values, df.response.values)\n",
    "\n",
    "\n",
    "def create_L():\n",
    "    df = pd.read_table(filter_path + 'L.dat', header=None, names=['wavelength','response'])\n",
    "    df['wavelength'] = df['wavelength'].astype('float')*0.1\n",
    "    return ldtk.TabulatedFilter('L', df.wavelength.values, df.response.values)\n",
    "\n",
    "\n",
    "# def create_wasp():\n",
    "#     df = pd.read_table('/Users/u5500483/Downloads/filters/WASP.dat', header=None, names=['wavelength','response'], delim_whitespace=True)\n",
    "#     df['wavelength'] = df['wavelength'].astype('float')*0.1\n",
    "#     return ldtk.TabulatedFilter('WASP', df.wavelength.values, df.response.values)\n",
    "#\n",
    "# def create_Johnson(filter):\n",
    "#     df_path = '/Users/u5500483/Downloads/filters/Generic_Johnson.{}.dat'.format(filter)\n",
    "#     df = pd.read_table(df_path, header=None, names=['wavelength','response'], sep=' ')\n",
    "#     df['wavelength'] = df['wavelength']*0.1\n",
    "#     return ldtk.TabulatedFilter(filter, df.wavelength.values, df.response.values)\n"
   ],
   "outputs": [],
   "execution_count": 7
  },
  {
   "cell_type": "code",
   "metadata": {
    "ExecuteTime": {
     "end_time": "2025-02-10T12:30:01.182390Z",
     "start_time": "2025-02-10T12:30:01.119787Z"
    }
   },
   "source": [
    "ngts = create_ngts()\n",
    "L = create_L()\n",
    "# tess = create_tess()"
   ],
   "outputs": [],
   "execution_count": 8
  },
  {
   "cell_type": "markdown",
   "metadata": {},
   "source": [
    "# Limb darkening Coefficients"
   ]
  },
  {
   "cell_type": "code",
   "metadata": {
    "ExecuteTime": {
     "end_time": "2025-02-11T11:02:55.228764Z",
     "start_time": "2025-02-11T11:02:55.005422Z"
    }
   },
   "source": [
    "stellar_df = pd.read_csv(target_path+'stellar_params.dat', comment='#', names=['Parameter','median','upper','lower','3sig_low','3sig_up'], delim_whitespace=True)\n",
    "display(stellar_df)"
   ],
   "outputs": [
    {
     "data": {
      "text/plain": [
       "  Parameter   median    upper    lower  3sig_low  3sig_up\n",
       "0      teff  6410.00  125.000  125.000       NaN      NaN\n",
       "1      logg     4.10    0.012    0.012       NaN      NaN\n",
       "2    [Fe/H]     0.16    0.100    0.100       NaN      NaN"
      ],
      "text/html": [
       "<div>\n",
       "<style scoped>\n",
       "    .dataframe tbody tr th:only-of-type {\n",
       "        vertical-align: middle;\n",
       "    }\n",
       "\n",
       "    .dataframe tbody tr th {\n",
       "        vertical-align: top;\n",
       "    }\n",
       "\n",
       "    .dataframe thead th {\n",
       "        text-align: right;\n",
       "    }\n",
       "</style>\n",
       "<table border=\"1\" class=\"dataframe\">\n",
       "  <thead>\n",
       "    <tr style=\"text-align: right;\">\n",
       "      <th></th>\n",
       "      <th>Parameter</th>\n",
       "      <th>median</th>\n",
       "      <th>upper</th>\n",
       "      <th>lower</th>\n",
       "      <th>3sig_low</th>\n",
       "      <th>3sig_up</th>\n",
       "    </tr>\n",
       "  </thead>\n",
       "  <tbody>\n",
       "    <tr>\n",
       "      <th>0</th>\n",
       "      <td>teff</td>\n",
       "      <td>6410.00</td>\n",
       "      <td>125.000</td>\n",
       "      <td>125.000</td>\n",
       "      <td>NaN</td>\n",
       "      <td>NaN</td>\n",
       "    </tr>\n",
       "    <tr>\n",
       "      <th>1</th>\n",
       "      <td>logg</td>\n",
       "      <td>4.10</td>\n",
       "      <td>0.012</td>\n",
       "      <td>0.012</td>\n",
       "      <td>NaN</td>\n",
       "      <td>NaN</td>\n",
       "    </tr>\n",
       "    <tr>\n",
       "      <th>2</th>\n",
       "      <td>[Fe/H]</td>\n",
       "      <td>0.16</td>\n",
       "      <td>0.100</td>\n",
       "      <td>0.100</td>\n",
       "      <td>NaN</td>\n",
       "      <td>NaN</td>\n",
       "    </tr>\n",
       "  </tbody>\n",
       "</table>\n",
       "</div>"
      ]
     },
     "metadata": {},
     "output_type": "display_data"
    }
   ],
   "execution_count": 11
  },
  {
   "cell_type": "code",
   "metadata": {
    "ExecuteTime": {
     "end_time": "2025-02-11T11:02:58.928319Z",
     "start_time": "2025-02-11T11:02:57.398409Z"
    }
   },
   "source": [
    "filter_names = np.array(['NGTS', 'L'])\n",
    "filters = np.array([ngts, L])\n",
    "#Enter stellar parameters in form (median, 1-sig error). I pull these values from ARIADNE fits but catalogue values are fine\n",
    "sc = ldtk.LDPSetCreator(teff=(stellar_df.loc[stellar_df.Parameter=='teff', 'median'].item(),np.max([stellar_df.loc[stellar_df.Parameter=='teff', 'upper'].item(), stellar_df.loc[stellar_df.Parameter=='teff', 'lower'].item()])),    # First col value, second col plusminus error\n",
    "                  logg=(stellar_df.loc[stellar_df.Parameter=='logg', 'median'].item(),np.max([stellar_df.loc[stellar_df.Parameter=='logg', 'upper'].item(), stellar_df.loc[stellar_df.Parameter=='logg', 'lower'].item()])),\n",
    "                      z=(stellar_df.loc[stellar_df.Parameter=='[Fe/H]', 'median'].item(),np.max([stellar_df.loc[stellar_df.Parameter=='[Fe/H]', 'upper'].item(), stellar_df.loc[stellar_df.Parameter=='[Fe/H]', 'lower'].item()])),\n",
    "                     filters=filters)\n",
    "ps = sc.create_profiles(nsamples=2000)                # Create the limb darkening profiles\n",
    "ps.resample_linear_z(300)\n",
    "cq,eq = ps.coeffs_qd(do_mc=True)         # Estimate quadratic law coefficients\n",
    "for i, filter in enumerate(filter_names):\n",
    "    print(filter)\n",
    "    print('c1/c2 values:')\n",
    "    print(cq[i,0],eq[i,0])\n",
    "    print(cq[i,1],eq[i,1])\n",
    "print('....')\n",
    "for i, filter in enumerate(filter_names):\n",
    "    print(filter)\n",
    "    q1 = (cq[i,0]+cq[i,1])**2\n",
    "    q1err = (eq[i,0]**2+eq[i,1]**2)**0.5/(cq[i,0]+cq[i,1])*2*q1\n",
    "    q2 = cq[i,0]/(2*(cq[i,0]+cq[i,1]))\n",
    "    q2err = q2*((eq[i,0]/cq[i,0])**2+((eq[i,0]**2+eq[i,1]**2)**0.5/(cq[i,0]+cq[i,1])))**0.5\n",
    "    # print('q1={}+/-{}. 5-sig = {}'.format(q1,q1err,q1err*5))\n",
    "    # print('q2={}+/-{}. 5-sig = {}'.format(q2,q2err,q2err*5))\n",
    "    print(\"host_ldc_q1_\"+str(filter)+\",\"+str(q1)+\",1,normal \"+str(q1)+\" \"+str(q1err*3)+\",$q_{1; \\mathrm{\"+str(filter)+\"}}$,\")\n",
    "    print(\"host_ldc_q2_\"+str(filter)+\",\"+str(q2)+\",1,normal \"+str(q2)+\" \"+str(q2err*3)+\",$q_{1; \\mathrm{\"+str(filter)+\"}}$,\")"
   ],
   "outputs": [
    {
     "name": "stdout",
     "output_type": "stream",
     "text": [
      "NGTS\n",
      "c1/c2 values:\n",
      "0.42515938893603267 0.0006685038402143716\n",
      "0.13479315041795742 0.0020238795419225413\n",
      "L\n",
      "c1/c2 values:\n",
      "0.5372189986289564 0.0008485716305521009\n",
      "0.14503210357350832 0.0020313565733018654\n",
      "....\n",
      "NGTS\n",
      "host_ldc_q1_NGTS,0.3135468463289819,1,normal 0.3135468463289819 0.007160991493108053,$q_{1; \\mathrm{NGTS}}$,\n",
      "host_ldc_q2_NGTS,0.37963877208819646,1,normal 0.37963877208819646 0.07028983812613665,$q_{1; \\mathrm{NGTS}}$,\n",
      "L\n",
      "host_ldc_q1_L,0.4654665664564779,1,normal 0.4654665664564779 0.009011744256743464,$q_{1; \\mathrm{L}}$,\n",
      "host_ldc_q2_L,0.3937106124817453,1,normal 0.3937106124817453 0.06711981838158554,$q_{1; \\mathrm{L}}$,\n"
     ]
    }
   ],
   "execution_count": 12
  },
  {
   "metadata": {},
   "cell_type": "code",
   "outputs": [],
   "execution_count": null,
   "source": ""
  }
 ],
 "metadata": {
  "kernelspec": {
   "display_name": "ldtk",
   "language": "python",
   "name": "python3"
  },
  "language_info": {
   "codemirror_mode": {
    "name": "ipython",
    "version": 3
   },
   "file_extension": ".py",
   "mimetype": "text/x-python",
   "name": "python",
   "nbconvert_exporter": "python",
   "pygments_lexer": "ipython3",
   "version": "3.9.21"
  }
 },
 "nbformat": 4,
 "nbformat_minor": 2
}
