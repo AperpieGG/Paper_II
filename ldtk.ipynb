{
 "cells": [
  {
   "cell_type": "code",
   "metadata": {
    "ExecuteTime": {
     "end_time": "2025-01-30T13:42:11.875425Z",
     "start_time": "2025-01-30T13:42:11.857750Z"
    }
   },
   "source": [
    "import pandas as pd\n",
    "import numpy as np\n",
    "import ldtk"
   ],
   "outputs": [],
   "execution_count": 12
  },
  {
   "cell_type": "code",
   "metadata": {
    "ExecuteTime": {
     "end_time": "2025-01-30T13:42:12.998351Z",
     "start_time": "2025-01-30T13:42:12.995227Z"
    }
   },
   "source": [
    "target_path = '/Users/u5500483/Documents/GitHub/Paper_II/'\n",
    "filter_path = '/Users/u5500483/Documents/GitHub/Paper_II/filters_limb_dark/'"
   ],
   "outputs": [],
   "execution_count": 13
  },
  {
   "cell_type": "code",
   "metadata": {
    "ExecuteTime": {
     "end_time": "2025-01-30T13:42:14.482076Z",
     "start_time": "2025-01-30T13:42:14.475708Z"
    }
   },
   "source": [
    "def create_ngts():\n",
    "    df = pd.read_csv(filter_path + 'NGTS_transmission_and_atmosphere_MGunther.txt', comment='#', header=None, names=['wavelength','response'])\n",
    "    return ldtk.TabulatedFilter('NGTS', df.wavelength.values, df.response.values)\n",
    "\n",
    "def create_tess():\n",
    "    df = pd.read_table(filter_path + 'TESS.dat', header=None, names=['wavelength','response'], sep='    ')\n",
    "    df['wavelength'] = df['wavelength']*0.1\n",
    "    return ldtk.TabulatedFilter('TESS', df.wavelength.values, df.response.values)\n",
    "\n",
    "def create_SLOAN_g():\n",
    "    df = pd.read_table(filter_path + 'SLOAN_SDSS.gprime_filter.dat', header=None, names=['wavelength','response'])\n",
    "    df['wavelength'] = df['wavelength'].astype('float')*0.1\n",
    "    return ldtk.TabulatedFilter('SLOAN-g', df.wavelength.values, df.response.values)\n",
    "\n",
    "\n",
    "# def create_wasp():\n",
    "#     df = pd.read_table('/Users/u5500483/Downloads/filters/WASP.dat', header=None, names=['wavelength','response'], delim_whitespace=True)\n",
    "#     df['wavelength'] = df['wavelength'].astype('float')*0.1\n",
    "#     return ldtk.TabulatedFilter('WASP', df.wavelength.values, df.response.values)\n",
    "#\n",
    "# def create_Johnson(filter):\n",
    "#     df_path = '/Users/u5500483/Downloads/filters/Generic_Johnson.{}.dat'.format(filter)\n",
    "#     df = pd.read_table(df_path, header=None, names=['wavelength','response'], sep=' ')\n",
    "#     df['wavelength'] = df['wavelength']*0.1\n",
    "#     return ldtk.TabulatedFilter(filter, df.wavelength.values, df.response.values)\n"
   ],
   "outputs": [],
   "execution_count": 14
  },
  {
   "cell_type": "code",
   "metadata": {
    "ExecuteTime": {
     "end_time": "2025-01-30T13:42:17.054433Z",
     "start_time": "2025-01-30T13:42:16.978729Z"
    }
   },
   "source": [
    "ngts = create_ngts()\n",
    "SLOAN_g = create_SLOAN_g()\n",
    "# tess = create_tess()"
   ],
   "outputs": [],
   "execution_count": 15
  },
  {
   "cell_type": "markdown",
   "metadata": {},
   "source": [
    "# Limb darkening Coefficients"
   ]
  },
  {
   "cell_type": "code",
   "metadata": {
    "ExecuteTime": {
     "end_time": "2025-01-30T13:42:18.603114Z",
     "start_time": "2025-01-30T13:42:18.591618Z"
    }
   },
   "source": [
    "stellar_df = pd.read_csv(target_path+'stellar_params.dat', comment='#', names=['Parameter','median','upper','lower','3sig_low','3sig_up'], delim_whitespace=True)\n",
    "display(stellar_df)"
   ],
   "outputs": [
    {
     "data": {
      "text/plain": [
       "  Parameter      median       upper       lower  3sig_low  3sig_up\n",
       "0      teff  6226.00000  162.250000  117.399000       NaN      NaN\n",
       "1      logg     4.25879    0.107285    0.066733       NaN      NaN\n",
       "2    [Fe/H]     0.10700    0.080000    0.080000       NaN      NaN"
      ],
      "text/html": [
       "<div>\n",
       "<style scoped>\n",
       "    .dataframe tbody tr th:only-of-type {\n",
       "        vertical-align: middle;\n",
       "    }\n",
       "\n",
       "    .dataframe tbody tr th {\n",
       "        vertical-align: top;\n",
       "    }\n",
       "\n",
       "    .dataframe thead th {\n",
       "        text-align: right;\n",
       "    }\n",
       "</style>\n",
       "<table border=\"1\" class=\"dataframe\">\n",
       "  <thead>\n",
       "    <tr style=\"text-align: right;\">\n",
       "      <th></th>\n",
       "      <th>Parameter</th>\n",
       "      <th>median</th>\n",
       "      <th>upper</th>\n",
       "      <th>lower</th>\n",
       "      <th>3sig_low</th>\n",
       "      <th>3sig_up</th>\n",
       "    </tr>\n",
       "  </thead>\n",
       "  <tbody>\n",
       "    <tr>\n",
       "      <th>0</th>\n",
       "      <td>teff</td>\n",
       "      <td>6226.00000</td>\n",
       "      <td>162.250000</td>\n",
       "      <td>117.399000</td>\n",
       "      <td>NaN</td>\n",
       "      <td>NaN</td>\n",
       "    </tr>\n",
       "    <tr>\n",
       "      <th>1</th>\n",
       "      <td>logg</td>\n",
       "      <td>4.25879</td>\n",
       "      <td>0.107285</td>\n",
       "      <td>0.066733</td>\n",
       "      <td>NaN</td>\n",
       "      <td>NaN</td>\n",
       "    </tr>\n",
       "    <tr>\n",
       "      <th>2</th>\n",
       "      <td>[Fe/H]</td>\n",
       "      <td>0.10700</td>\n",
       "      <td>0.080000</td>\n",
       "      <td>0.080000</td>\n",
       "      <td>NaN</td>\n",
       "      <td>NaN</td>\n",
       "    </tr>\n",
       "  </tbody>\n",
       "</table>\n",
       "</div>"
      ]
     },
     "metadata": {},
     "output_type": "display_data"
    }
   ],
   "execution_count": 16
  },
  {
   "cell_type": "code",
   "metadata": {
    "ExecuteTime": {
     "end_time": "2025-01-30T13:43:18.428457Z",
     "start_time": "2025-01-30T13:42:21.548668Z"
    }
   },
   "source": [
    "filter_names = np.array(['NGTS', 'SLOAN-g'])\n",
    "filters = np.array([ngts, SLOAN_g])\n",
    "#Enter stellar parameters in form (median, 1-sig error). I pull these values from ARIADNE fits but catalogue values are fine\n",
    "sc = ldtk.LDPSetCreator(teff=(stellar_df.loc[stellar_df.Parameter=='teff', 'median'].item(),np.max([stellar_df.loc[stellar_df.Parameter=='teff', 'upper'].item(), stellar_df.loc[stellar_df.Parameter=='teff', 'lower'].item()])),    # First col value, second col plusminus error\n",
    "                  logg=(stellar_df.loc[stellar_df.Parameter=='logg', 'median'].item(),np.max([stellar_df.loc[stellar_df.Parameter=='logg', 'upper'].item(), stellar_df.loc[stellar_df.Parameter=='logg', 'lower'].item()])),\n",
    "                      z=(stellar_df.loc[stellar_df.Parameter=='[Fe/H]', 'median'].item(),np.max([stellar_df.loc[stellar_df.Parameter=='[Fe/H]', 'upper'].item(), stellar_df.loc[stellar_df.Parameter=='[Fe/H]', 'lower'].item()])),\n",
    "                     filters=filters)\n",
    "ps = sc.create_profiles(nsamples=2000)                # Create the limb darkening profiles\n",
    "ps.resample_linear_z(300)\n",
    "cq,eq = ps.coeffs_qd(do_mc=True)         # Estimate quadratic law coefficients\n",
    "for i, filter in enumerate(filter_names):\n",
    "    print(filter)\n",
    "    print('c1/c2 values:')\n",
    "    print(cq[i,0],eq[i,0])\n",
    "    print(cq[i,1],eq[i,1])\n",
    "print('....')\n",
    "for i, filter in enumerate(filter_names):\n",
    "    print(filter)\n",
    "    q1 = (cq[i,0]+cq[i,1])**2\n",
    "    q1err = (eq[i,0]**2+eq[i,1]**2)**0.5/(cq[i,0]+cq[i,1])*2*q1\n",
    "    q2 = cq[i,0]/(2*(cq[i,0]+cq[i,1]))\n",
    "    q2err = q2*((eq[i,0]/cq[i,0])**2+((eq[i,0]**2+eq[i,1]**2)**0.5/(cq[i,0]+cq[i,1])))**0.5\n",
    "    # print('q1={}+/-{}. 5-sig = {}'.format(q1,q1err,q1err*5))\n",
    "    # print('q2={}+/-{}. 5-sig = {}'.format(q2,q2err,q2err*5))\n",
    "    print(\"host_ldc_q1_\"+str(filter)+\",\"+str(q1)+\",1,normal \"+str(q1)+\" \"+str(q1err*3)+\",$q_{1; \\mathrm{\"+str(filter)+\"}}$,\")\n",
    "    print(\"host_ldc_q2_\"+str(filter)+\",\"+str(q2)+\",1,normal \"+str(q2)+\" \"+str(q2err*3)+\",$q_{1; \\mathrm{\"+str(filter)+\"}}$,\")"
   ],
   "outputs": [
    {
     "name": "stdout",
     "output_type": "stream",
     "text": [
      "Need to download 106 files, approximately 35.40 MB\n"
     ]
    },
    {
     "data": {
      "text/plain": [
       "LDTk downloading uncached files:   0%|          | 0/106 [00:00<?, ?it/s]"
      ],
      "application/vnd.jupyter.widget-view+json": {
       "version_major": 2,
       "version_minor": 0,
       "model_id": "d7251d7b89a6436c9d6f688cd1d59ad5"
      }
     },
     "metadata": {},
     "output_type": "display_data"
    },
    {
     "name": "stdout",
     "output_type": "stream",
     "text": [
      "NGTS\n",
      "c1/c2 values:\n",
      "0.44629050513065993 0.0010589346070618841\n",
      "0.14052696783447394 0.002833616090408942\n",
      "SLOAN-g\n",
      "c1/c2 values:\n",
      "0.6491952297361383 0.0018193481972803517\n",
      "0.1323432682522901 0.0038336203734956175\n",
      "....\n",
      "NGTS\n",
      "host_ldc_q1_NGTS,0.3443547465771856,1,normal 0.3443547465771856 0.010650793963232775,$q_{1; \\mathrm{NGTS}}$,\n",
      "host_ldc_q2_NGTS,0.38026347688285056,1,normal 0.38026347688285056 0.08195118258892428,$q_{1; \\mathrm{NGTS}}$,\n",
      "SLOAN-g\n",
      "host_ldc_q1_SLOAN-g,0.6108024238380086,1,normal 0.6108024238380086 0.01989840956393182,$q_{1; \\mathrm{SLOAN-g}}$,\n",
      "host_ldc_q2_SLOAN-g,0.41533157445671376,1,normal 0.41533157445671376 0.09187836509266895,$q_{1; \\mathrm{SLOAN-g}}$,\n"
     ]
    }
   ],
   "execution_count": 17
  },
  {
   "metadata": {},
   "cell_type": "code",
   "outputs": [],
   "execution_count": null,
   "source": ""
  }
 ],
 "metadata": {
  "kernelspec": {
   "display_name": "ldtk",
   "language": "python",
   "name": "python3"
  },
  "language_info": {
   "codemirror_mode": {
    "name": "ipython",
    "version": 3
   },
   "file_extension": ".py",
   "mimetype": "text/x-python",
   "name": "python",
   "nbconvert_exporter": "python",
   "pygments_lexer": "ipython3",
   "version": "3.9.21"
  }
 },
 "nbformat": 4,
 "nbformat_minor": 2
}
